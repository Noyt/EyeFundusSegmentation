{
 "cells": [
  {
   "cell_type": "code",
   "execution_count": 7,
   "metadata": {},
   "outputs": [
    {
     "name": "stdout",
     "output_type": "stream",
     "text": [
      "The autoreload extension is already loaded. To reload it, use:\n",
      "  %reload_ext autoreload\n"
     ]
    }
   ],
   "source": [
    "%load_ext autoreload\n",
    "%autoreload 2\n",
    "from sys import path\n",
    "path.append('/home/clement/Documents/Code/JuNNo/lib')\n",
    "path.append('../code/')\n",
    "import junno.datasets as J\n",
    "import cv2\n",
    "import numpy as np\n",
    "from PIL import Image\n",
    "import torch\n",
    "from utils.eval.tester import Tester\n",
    "from manager import Trainer\n",
    "import yaml\n",
    "from easydict import EasyDict\n",
    "import pprint\n",
    "from sklearn.utils import class_weight\n",
    "from networks.unet import UNet\n",
    "import datetime\n",
    "pp = pprint.PrettyPrinter(indent=4)"
   ]
  },
  {
   "cell_type": "code",
   "execution_count": 13,
   "metadata": {},
   "outputs": [],
   "source": [
    "PATH = '/home/clement/Documents/database/arnaud/DRIVE/test/2-label_Vessel_2nd'\n",
    "\n",
    "for i in range(20):\n",
    "    i= i + 1\n",
    "    if i < 10:\n",
    "        img = Image.open(PATH+'/0%s_manual2.gif' % i)\n",
    "        img.save(PATH+'/png_format/0%s_test.png' % i, 'png')\n",
    "    else:\n",
    "        img = Image.open(PATH+'/%s_manual2.gif' % i)\n",
    "        img.save(PATH+'/png_format/%s_test.png' % i, 'png')\n",
    "        \n",
    "    "
   ]
  },
  {
   "cell_type": "code",
   "execution_count": null,
   "metadata": {},
   "outputs": [],
   "source": []
  }
 ],
 "metadata": {
  "kernelspec": {
   "display_name": "Python 3",
   "language": "python",
   "name": "python3"
  },
  "language_info": {
   "codemirror_mode": {
    "name": "ipython",
    "version": 3
   },
   "file_extension": ".py",
   "mimetype": "text/x-python",
   "name": "python",
   "nbconvert_exporter": "python",
   "pygments_lexer": "ipython3",
   "version": "3.7.4"
  }
 },
 "nbformat": 4,
 "nbformat_minor": 2
}
